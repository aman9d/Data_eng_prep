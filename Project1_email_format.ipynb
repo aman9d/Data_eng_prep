{
  "nbformat": 4,
  "nbformat_minor": 0,
  "metadata": {
    "colab": {
      "provenance": [],
      "authorship_tag": "ABX9TyPALRInLFgWBhzHnT3NRI+y",
      "include_colab_link": true
    },
    "kernelspec": {
      "name": "python3",
      "display_name": "Python 3"
    },
    "language_info": {
      "name": "python"
    }
  },
  "cells": [
    {
      "cell_type": "markdown",
      "metadata": {
        "id": "view-in-github",
        "colab_type": "text"
      },
      "source": [
        "<a href=\"https://colab.research.google.com/github/aman9d/Data_eng_prep/blob/main/Project1_email_format.ipynb\" target=\"_parent\"><img src=\"https://colab.research.google.com/assets/colab-badge.svg\" alt=\"Open In Colab\"/></a>"
      ]
    },
    {
      "cell_type": "markdown",
      "source": [
        "![image.png](data:image/png;base64,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)"
      ],
      "metadata": {
        "id": "rjxfq1MAxv1d"
      }
    },
    {
      "cell_type": "code",
      "source": [
        "a={'emp1':{'name':'Aman', 'dept':'a'},'emp2':{'name':'Astha', 'dept':'b'}}#'emp3':{'dept':'Astha1'}}\n"
      ],
      "metadata": {
        "id": "4FGxZT20yAxx"
      },
      "execution_count": 82,
      "outputs": []
    },
    {
      "cell_type": "code",
      "execution_count": 83,
      "metadata": {
        "colab": {
          "base_uri": "https://localhost:8080/"
        },
        "id": "R2aGefIMxlMI",
        "outputId": "425ceb60-6065-4ef0-c0a1-88d7ce70a5c4"
      },
      "outputs": [
        {
          "output_type": "execute_result",
          "data": {
            "text/plain": [
              "[('emp1', 'aman.a@company.com'), ('emp2', 'astha.b@company.com')]"
            ]
          },
          "metadata": {},
          "execution_count": 83
        }
      ],
      "source": [
        "\n",
        "def email_creator(a):\n",
        "  try:\n",
        "    if not isinstance(a, dict):\n",
        "            raise ValueError(\"Input must be a dictionary\")\n",
        "    for k, v in a.items():\n",
        "            if not isinstance(v, dict) or 'name' not in v or 'dept' not in v:\n",
        "                raise ValueError(f\"Invalid employee format for ID: {k}\")\n",
        "\n",
        "    #check = all(map(lambda x: len(x) == 2, a.values()))\n",
        "    email=list(map(lambda x: f\"{x['name'].lower()}.{x['dept'].lower()}@company.com\", a.values()))\n",
        "    res=list(zip(a.keys(),email))\n",
        "    return res\n",
        "  except Exception as e:\n",
        "    print(\"Error occurred while validating:\", str(e))\n",
        "\n",
        "\n",
        "\n",
        "email_creator(a)\n",
        "\n",
        "\n",
        ""
      ]
    },
    {
      "cell_type": "code",
      "source": [
        "# email_creator.py\n",
        "\n",
        "def email_creator(employee_dict):\n",
        "    try:\n",
        "        if not isinstance(employee_dict, dict):\n",
        "            raise ValueError(\"Input must be a dictionary\")\n",
        "\n",
        "        for k, v in employee_dict.items():\n",
        "            if not isinstance(v, dict) or 'name' not in v or 'dept' not in v:\n",
        "                raise ValueError(f\"Invalid employee format for ID: {k}\")\n",
        "\n",
        "        email_list = [\n",
        "            f\"{v['name'].lower()}.{v['dept'].lower()}@company.com\"\n",
        "            for v in employee_dict.values()\n",
        "        ]\n",
        "\n",
        "        return list(zip(employee_dict.keys(), email_list))\n",
        "\n",
        "    except Exception as e:\n",
        "        return str(e)\n",
        "\n",
        "# ---------------------------------------------------------\n",
        "# Unit Tests using assert\n",
        "\n",
        "def test_email_creator():\n",
        "    # ✅ Test 1: Valid input\n",
        "    emp_data = {\n",
        "        101: {\"name\": \"Aman\", \"dept\": \"Data\"},\n",
        "        102: {\"name\": \"Rita\", \"dept\": \"HR\"}\n",
        "    }\n",
        "    expected = [\n",
        "        (101, \"aman.data@company.com\"),\n",
        "        (102, \"rita.hr@company.com\")\n",
        "    ]\n",
        "    assert email_creator(emp_data) == expected\n",
        "\n",
        "    # ❌ Test 2: Non-dictionary input\n",
        "    assert \"must be a dictionary\" in email_creator([\"not\", \"a\", \"dict\"])\n",
        "\n",
        "    # ❌ Test 3: Missing 'name' key\n",
        "    bad_input = {\n",
        "        201: {\"dept\": \"Finance\"}\n",
        "    }\n",
        "    assert \"Invalid employee format\" in email_creator(bad_input)\n",
        "\n",
        "    # ❌ Test 4: Value is not a dictionary\n",
        "    assert \"Invalid employee format\" in email_creator({301: \"not-a-dict\"})\n",
        "\n",
        "    # ✅ Test 5: Mixed case handling\n",
        "    mixed_case = {\n",
        "        104: {\"name\": \"JoHn\", \"dept\": \"EnGinEEriNg\"}\n",
        "    }\n",
        "    assert email_creator(mixed_case) == [(104, \"john.engineering@company.com\")]\n",
        "\n",
        "    print(\"✅ All unit tests passed!\")\n",
        "\n",
        "\n",
        "# ---------------------------------------------------------\n",
        "# Run tests when the file is executed directly\n",
        "\n",
        "if __name__ == \"__main__\":\n",
        "    test_email_creator()\n"
      ],
      "metadata": {
        "colab": {
          "base_uri": "https://localhost:8080/"
        },
        "id": "HS-vbLvG6BUo",
        "outputId": "05878483-6b32-49a7-8c6c-1fddfcad6bbf"
      },
      "execution_count": 92,
      "outputs": [
        {
          "output_type": "stream",
          "name": "stdout",
          "text": [
            "✅ All unit tests passed!\n"
          ]
        }
      ]
    },
    {
      "cell_type": "code",
      "source": [],
      "metadata": {
        "colab": {
          "base_uri": "https://localhost:8080/"
        },
        "id": "dFhIrzC_87uE",
        "outputId": "8e75de3f-82dd-4a56-ff19-c8bef0b73ec1"
      },
      "execution_count": 103,
      "outputs": [
        {
          "output_type": "stream",
          "name": "stdout",
          "text": [
            "You got: 🍪\n",
            "You got: 🍩\n",
            "You got: 🍕\n"
          ]
        }
      ]
    },
    {
      "cell_type": "code",
      "source": [],
      "metadata": {
        "id": "QjZm5z8s-6aU"
      },
      "execution_count": null,
      "outputs": []
    }
  ]
}