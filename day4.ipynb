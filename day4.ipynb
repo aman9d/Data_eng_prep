{
  "nbformat": 4,
  "nbformat_minor": 0,
  "metadata": {
    "colab": {
      "provenance": [],
      "authorship_tag": "ABX9TyOApHOdIpB43VpIUTHsrG8Y",
      "include_colab_link": true
    },
    "kernelspec": {
      "name": "python3",
      "display_name": "Python 3"
    },
    "language_info": {
      "name": "python"
    }
  },
  "cells": [
    {
      "cell_type": "markdown",
      "metadata": {
        "id": "view-in-github",
        "colab_type": "text"
      },
      "source": [
        "<a href=\"https://colab.research.google.com/github/aman9d/Data_eng_prep/blob/main/day4.ipynb\" target=\"_parent\"><img src=\"https://colab.research.google.com/assets/colab-badge.svg\" alt=\"Open In Colab\"/></a>"
      ]
    },
    {
      "cell_type": "markdown",
      "source": [
        "Filter and Rank Transactions\n",
        "\n",
        "You are given a list of customer transactions. Each transaction is represented as a tuple: (customer_id, amount).\n",
        "\n",
        "Write a function that:\n",
        "\n",
        "Filters out any transactions where the amount is less than or equal to 100\n",
        "\n",
        "Groups the remaining transactions by customer ID\n",
        "\n",
        "Returns a dictionary where each key is a customer ID, and the value is the sum of their qualifying transaction amounts"
      ],
      "metadata": {
        "id": "XeNX48fwqmEX"
      }
    },
    {
      "cell_type": "code",
      "execution_count": 16,
      "metadata": {
        "id": "8DVF7ggSbLsE"
      },
      "outputs": [],
      "source": [
        "transactions = [\n",
        "    (101, 50),\n",
        "    (102, 200),\n",
        "    (101, 300),\n",
        "    (103, 100),\n",
        "    (102, 50),\n",
        "    (101, 80),\n",
        "    (103, 500)\n",
        "]\n",
        "\n"
      ]
    },
    {
      "cell_type": "code",
      "source": [
        "def tran_filter(a):\n",
        "  res=[]\n",
        "  remain=[]\n",
        "  for i,j in a:\n",
        "    if j<=100:\n",
        "      a=(i,j)\n",
        "      res.append(a)\n",
        "    else:\n",
        "      a=(i,j)\n",
        "      remain.append(a)\n",
        "  remain_dict={}\n",
        "  for k,l in remain:\n",
        "    if k in remain_dict:\n",
        "      remain_dict[k]+=l\n",
        "    else:\n",
        "      remain_dict[k]=l\n",
        "\n",
        "\n",
        "  return(remain_dict)\n",
        "\n",
        "tran_filter(transactions)"
      ],
      "metadata": {
        "colab": {
          "base_uri": "https://localhost:8080/"
        },
        "id": "Appas1wxbh3A",
        "outputId": "a45f8010-8426-4f54-86ad-3c3b836e2410"
      },
      "execution_count": 29,
      "outputs": [
        {
          "output_type": "execute_result",
          "data": {
            "text/plain": [
              "{102: 200, 101: 300, 103: 500}"
            ]
          },
          "metadata": {},
          "execution_count": 29
        }
      ]
    },
    {
      "cell_type": "markdown",
      "source": [
        "**Exception Handling Playground**\n",
        "\n",
        "- Write a function with try-except-else-finally blocks\n",
        "- Simulate a ZeroDivisionError and handle it\n",
        "- Use raise to throw a custom TypeError if input is not a string\n",
        "- In a loop, process a list with some bad data, and skip invalid entries without breaking"
      ],
      "metadata": {
        "id": "6oR1RP0LAjGH"
      }
    },
    {
      "cell_type": "code",
      "source": [
        "from logging import exception\n",
        "class CustomError(Exception):\n",
        "  pass\n",
        "\n",
        "def fun1(a):\n",
        "  try:\n",
        "    if not isinstance(a,list):\n",
        "      raise CustomError('input is not a list')\n",
        "    for i in a:\n",
        "      res=100/i\n",
        "\n",
        "  except ZeroDivisionError:\n",
        "     print(\"Error: You cannot divide by zero.\")\n",
        "  except CustomError as e:\n",
        "    print('error',e)\n",
        "  except TypeError:\n",
        "    print('input is not integer')\n",
        "  else:\n",
        "    print('all run sucessfully')\n",
        "  finally:\n",
        "    print(a)\n",
        "\n",
        "fun1([1,2])\n"
      ],
      "metadata": {
        "colab": {
          "base_uri": "https://localhost:8080/"
        },
        "id": "jRXzjWWc_I_j",
        "outputId": "77766b7e-0d91-4b9e-c663-f4f1e78bb77d"
      },
      "execution_count": 44,
      "outputs": [
        {
          "output_type": "stream",
          "name": "stdout",
          "text": [
            "all run sucessfully\n",
            "[1, 2]\n"
          ]
        }
      ]
    },
    {
      "cell_type": "markdown",
      "source": [
        "**Time Complexity Tracker**\n",
        "\n",
        "- Analyze 5 Python operations and write their time complexity\n",
        "- Simulate a binary search and understand why it’s O(log n)\n",
        "- Compare runtime for nested vs single loop structures"
      ],
      "metadata": {
        "id": "cSUnPWalDFt8"
      }
    },
    {
      "cell_type": "code",
      "source": [
        "list_a=[1,2,3]\n",
        "\n",
        "#O(1)\n",
        "list_a.append(4)\n",
        "print(list_a)\n",
        "\n",
        "#O(n)\n",
        "list_b=[]\n",
        "for i in list_a:\n",
        "  list_b.append(i+1)\n",
        "print(list_b)"
      ],
      "metadata": {
        "colab": {
          "base_uri": "https://localhost:8080/"
        },
        "id": "cK2fr4M5B_E_",
        "outputId": "ccdfdee4-9b73-48d9-dccb-b6bf41adb3b3"
      },
      "execution_count": 50,
      "outputs": [
        {
          "output_type": "stream",
          "name": "stdout",
          "text": [
            "[1, 2, 3, 4]\n",
            "[2, 3, 4, 5]\n"
          ]
        }
      ]
    },
    {
      "cell_type": "code",
      "source": [
        "def binary_search(arr, target):\n",
        "    left = 0\n",
        "    right = len(arr) - 1\n",
        "    iterations = 0\n",
        "\n",
        "    while left <= right:\n",
        "        iterations += 1\n",
        "        mid = (left + right) // 2  # Calculate the middle index\n",
        "\n",
        "        print(f\"Iteration {iterations}: Searching in range [{left}, {right},], Middle {mid} element: {arr[mid]}\")\n",
        "\n",
        "        if arr[mid] == target:\n",
        "            print(f\"Target {target} found at index {mid} in {iterations} iterations.\")\n",
        "            return mid\n",
        "        elif arr[mid] < target:\n",
        "            left = mid + 1  # Target is in the right half\n",
        "        else:\n",
        "            right = mid - 1 # Target is in the left half\n",
        "\n",
        "    print(f\"Target {target} not found in {iterations} iterations.\")\n",
        "    return -1\n",
        "\n",
        "# Example usage:\n",
        "sorted_list = [2, 5, 8, 12,14,16]\n",
        "target_value = 5\n",
        "binary_search(sorted_list, target_value)\n",
        "\n",
        "target_value_not_found = 10\n",
        "binary_search(sorted_list, target_value_not_found)"
      ],
      "metadata": {
        "colab": {
          "base_uri": "https://localhost:8080/"
        },
        "id": "34ONhXlNDVAm",
        "outputId": "7b8cfb4a-e81e-43fd-9c78-f345a02d7d0d"
      },
      "execution_count": 55,
      "outputs": [
        {
          "output_type": "stream",
          "name": "stdout",
          "text": [
            "Iteration 1: Searching in range [0, 5,], Middle 2 element: 8\n",
            "Iteration 2: Searching in range [0, 1,], Middle 0 element: 2\n",
            "Iteration 3: Searching in range [1, 1,], Middle 1 element: 5\n",
            "Target 5 found at index 1 in 3 iterations.\n",
            "Iteration 1: Searching in range [0, 5,], Middle 2 element: 8\n",
            "Iteration 2: Searching in range [3, 5,], Middle 4 element: 14\n",
            "Iteration 3: Searching in range [3, 3,], Middle 3 element: 12\n",
            "Target 10 not found in 3 iterations.\n"
          ]
        },
        {
          "output_type": "execute_result",
          "data": {
            "text/plain": [
              "-1"
            ]
          },
          "metadata": {},
          "execution_count": 55
        }
      ]
    },
    {
      "cell_type": "markdown",
      "source": [
        "**Sorting Deep Dive**\n",
        "\n",
        "- Sort a list of numbers using both .sort() and sorted()\n",
        "- Sort strings based on:\n",
        "    - Length\n",
        "    - Alphabetical order\n",
        "    - Reverse order\n",
        "- Sort list of dictionaries by a specific key (like \"score\")\n",
        "- Use lambda with key="
      ],
      "metadata": {
        "id": "jWf6mF31Gbr6"
      }
    },
    {
      "cell_type": "code",
      "source": [
        "list_a=[1,2,3,4,5,2,3,9,8]\n",
        "list_a.sort()\n",
        "print(list_a)\n",
        "\n",
        "list_a=[1,2,3,4,5,2,3,9,8]\n",
        "list_s=sorted(list_a)\n",
        "print(list_s)\n"
      ],
      "metadata": {
        "colab": {
          "base_uri": "https://localhost:8080/"
        },
        "id": "bc4-_QiVElyI",
        "outputId": "53af47c0-b6e8-42ea-9b2d-3e73dc63ff0e"
      },
      "execution_count": 58,
      "outputs": [
        {
          "output_type": "stream",
          "name": "stdout",
          "text": [
            "[1, 2, 2, 3, 3, 4, 5, 8, 9]\n",
            "[1, 2, 2, 3, 3, 4, 5, 8, 9]\n"
          ]
        }
      ]
    },
    {
      "cell_type": "code",
      "source": [
        "list_o=['aman','name','ko','lko']\n",
        "list_s_len= sorted(list_o, key=len)\n",
        "print(list_s_len)\n",
        "\n",
        "list_s_alp= sorted(list_o)\n",
        "print(list_s_alp)\n",
        "\n",
        "list_s_alp_r= sorted(list_o,reverse=True)\n",
        "print(list_s_alp_r)\n"
      ],
      "metadata": {
        "colab": {
          "base_uri": "https://localhost:8080/"
        },
        "id": "ANcMup1lGmIu",
        "outputId": "4846276f-78ee-4339-8798-ae4ddf06b3eb"
      },
      "execution_count": 63,
      "outputs": [
        {
          "output_type": "stream",
          "name": "stdout",
          "text": [
            "['ko', 'lko', 'aman', 'name']\n",
            "['aman', 'ko', 'lko', 'name']\n",
            "['name', 'lko', 'ko', 'aman']\n"
          ]
        }
      ]
    },
    {
      "cell_type": "code",
      "source": [
        "my_list = [{'name': 'Alice', 'score': 85}, {'name': 'Bob', 'score': 92}, {'name': 'Charlie', 'score': 78}]\n",
        "my_list_s=sorted(my_list, key= lambda x:x['score'])\n",
        "print(my_list_s)"
      ],
      "metadata": {
        "colab": {
          "base_uri": "https://localhost:8080/"
        },
        "id": "hTvbfuWjHMUm",
        "outputId": "6d52f0fd-1ed5-4f93-96e3-b942e24aa23b"
      },
      "execution_count": 65,
      "outputs": [
        {
          "output_type": "stream",
          "name": "stdout",
          "text": [
            "[{'name': 'Charlie', 'score': 78}, {'name': 'Alice', 'score': 85}, {'name': 'Bob', 'score': 92}]\n"
          ]
        }
      ]
    },
    {
      "cell_type": "markdown",
      "source": [
        "**LeetCode Practice (Pick Any 2)**\n",
        "\n",
        "1. 🔗 Valid Parentheses"
      ],
      "metadata": {
        "id": "SQGx9EgDIKn_"
      }
    },
    {
      "cell_type": "code",
      "source": [
        "class Solution:\n",
        "    def isValid(self, s: str) -> bool:\n",
        "        pare={'(':')', '{': '}', '[' : ']'}\n",
        "        res=[]\n",
        "        for i in s:\n",
        "            if i in pare.keys():\n",
        "                res.append(pare[i])\n",
        "            elif i in pare.values():\n",
        "                if res==[] or i!=res.pop():\n",
        "                    return False\n",
        "            else:\n",
        "                return False\n",
        "        return True"
      ],
      "metadata": {
        "id": "TvNnBpg3H9HC"
      },
      "execution_count": 66,
      "outputs": []
    },
    {
      "cell_type": "markdown",
      "source": [
        "2. 🔗 Merge Intervals"
      ],
      "metadata": {
        "id": "gWd08IR2OlYF"
      }
    },
    {
      "cell_type": "code",
      "source": [
        "class Solution:\n",
        "    def merge(self, intervals: List[List[int]]) -> List[List[int]]:\n",
        "        prev=intervals[0]\n",
        "        res=[]\n",
        "        for i in range(0,len(intervals)):\n",
        "            if intervals[i][0]<=prev[1]:\n",
        "                prev[1]=max(intervals[i][1],prev[1])\n",
        "            else:\n",
        "                res.append(prev)\n",
        "                prev=intervals[i]\n",
        "        res.append(prev)\n",
        "        return res\n",
        ""
      ],
      "metadata": {
        "colab": {
          "base_uri": "https://localhost:8080/"
        },
        "id": "A8lkrCvDOjH5",
        "outputId": "f7c7e475-58b1-4ee5-ff95-2c6aef659099"
      },
      "execution_count": 56,
      "outputs": [
        {
          "output_type": "stream",
          "name": "stdout",
          "text": [
            "[[1, 6], [8, 10], [15, 20]]\n"
          ]
        }
      ]
    },
    {
      "cell_type": "markdown",
      "source": [
        "3. 🔗 Sort Colors"
      ],
      "metadata": {
        "id": "_M_5d0Rmixbi"
      }
    },
    {
      "cell_type": "code",
      "source": [
        " nums.sort()"
      ],
      "metadata": {
        "id": "TyQNT5DmZ5Qf"
      },
      "execution_count": null,
      "outputs": []
    }
  ]
}